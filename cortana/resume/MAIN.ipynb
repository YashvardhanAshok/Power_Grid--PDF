{
 "cells": [
  {
   "cell_type": "code",
   "execution_count": 6,
   "metadata": {},
   "outputs": [
    {
     "name": "stdout",
     "output_type": "stream",
     "text": [
      "\n",
      "-----\n",
      "\n",
      "WeasyPrint could not import some external libraries. Please carefully follow the installation steps before reporting an issue:\n",
      "https://doc.courtbouillon.org/weasyprint/stable/first_steps.html#installation\n",
      "https://doc.courtbouillon.org/weasyprint/stable/first_steps.html#troubleshooting \n",
      "\n",
      "-----\n",
      "\n"
     ]
    },
    {
     "ename": "OSError",
     "evalue": "cannot load library 'libgobject-2.0-0': error 0x7e.  Additionally, ctypes.util.find_library() did not manage to locate a library called 'libgobject-2.0-0'",
     "output_type": "error",
     "traceback": [
      "\u001b[1;31m---------------------------------------------------------------------------\u001b[0m",
      "\u001b[1;31mOSError\u001b[0m                                   Traceback (most recent call last)",
      "Cell \u001b[1;32mIn[6], line 1\u001b[0m\n\u001b[1;32m----> 1\u001b[0m \u001b[38;5;28;01mfrom\u001b[39;00m\u001b[38;5;250m \u001b[39m\u001b[38;5;21;01mweasyprint\u001b[39;00m\u001b[38;5;250m \u001b[39m\u001b[38;5;28;01mimport\u001b[39;00m HTML\n\u001b[0;32m      3\u001b[0m \u001b[38;5;66;03m# Convert an HTML file to PDF\u001b[39;00m\n\u001b[0;32m      4\u001b[0m HTML(\u001b[38;5;124m'\u001b[39m\u001b[38;5;124mresume.html\u001b[39m\u001b[38;5;124m'\u001b[39m)\u001b[38;5;241m.\u001b[39mwrite_pdf(\u001b[38;5;124m'\u001b[39m\u001b[38;5;124moutput.pdf\u001b[39m\u001b[38;5;124m'\u001b[39m)\n",
      "File \u001b[1;32md:\\ENTERTERMENT\\coding\\testing\\bot\\Lib\\site-packages\\weasyprint\\__init__.py:429\u001b[0m\n\u001b[0;32m    426\u001b[0m         \u001b[38;5;28;01myield\u001b[39;00m \u001b[38;5;124m'\u001b[39m\u001b[38;5;124mstring\u001b[39m\u001b[38;5;124m'\u001b[39m, string, base_url, \u001b[38;5;28;01mNone\u001b[39;00m\n\u001b[0;32m    428\u001b[0m \u001b[38;5;66;03m# Work around circular imports.\u001b[39;00m\n\u001b[1;32m--> 429\u001b[0m \u001b[38;5;28;01mfrom\u001b[39;00m\u001b[38;5;250m \u001b[39m\u001b[38;5;21;01m.\u001b[39;00m\u001b[38;5;21;01mcss\u001b[39;00m\u001b[38;5;250m \u001b[39m\u001b[38;5;28;01mimport\u001b[39;00m preprocess_stylesheet  \u001b[38;5;66;03m# noqa: I001, E402\u001b[39;00m\n\u001b[0;32m    430\u001b[0m \u001b[38;5;28;01mfrom\u001b[39;00m\u001b[38;5;250m \u001b[39m\u001b[38;5;21;01m.\u001b[39;00m\u001b[38;5;21;01mhtml\u001b[39;00m\u001b[38;5;250m \u001b[39m\u001b[38;5;28;01mimport\u001b[39;00m (  \u001b[38;5;66;03m# noqa: E402\u001b[39;00m\n\u001b[0;32m    431\u001b[0m     HTML5_UA_COUNTER_STYLE, HTML5_UA_STYLESHEET, HTML5_UA_FORM_STYLESHEET,\n\u001b[0;32m    432\u001b[0m     HTML5_PH_STYLESHEET)\n\u001b[0;32m    433\u001b[0m \u001b[38;5;28;01mfrom\u001b[39;00m\u001b[38;5;250m \u001b[39m\u001b[38;5;21;01m.\u001b[39;00m\u001b[38;5;21;01mdocument\u001b[39;00m\u001b[38;5;250m \u001b[39m\u001b[38;5;28;01mimport\u001b[39;00m Document, Page  \u001b[38;5;66;03m# noqa: E402\u001b[39;00m\n",
      "File \u001b[1;32md:\\ENTERTERMENT\\coding\\testing\\bot\\Lib\\site-packages\\weasyprint\\css\\__init__.py:28\u001b[0m\n\u001b[0;32m     26\u001b[0m \u001b[38;5;28;01mfrom\u001b[39;00m\u001b[38;5;250m \u001b[39m\u001b[38;5;21;01m.\u001b[39;00m\u001b[38;5;21;01m.\u001b[39;00m\u001b[38;5;21;01murls\u001b[39;00m\u001b[38;5;250m \u001b[39m\u001b[38;5;28;01mimport\u001b[39;00m URLFetchingError, get_url_attribute, url_join\n\u001b[0;32m     27\u001b[0m \u001b[38;5;28;01mfrom\u001b[39;00m\u001b[38;5;250m \u001b[39m\u001b[38;5;21;01m.\u001b[39;00m\u001b[38;5;250m \u001b[39m\u001b[38;5;28;01mimport\u001b[39;00m counters, media_queries\n\u001b[1;32m---> 28\u001b[0m \u001b[38;5;28;01mfrom\u001b[39;00m\u001b[38;5;250m \u001b[39m\u001b[38;5;21;01m.\u001b[39;00m\u001b[38;5;21;01mcomputed_values\u001b[39;00m\u001b[38;5;250m \u001b[39m\u001b[38;5;28;01mimport\u001b[39;00m COMPUTER_FUNCTIONS\n\u001b[0;32m     29\u001b[0m \u001b[38;5;28;01mfrom\u001b[39;00m\u001b[38;5;250m \u001b[39m\u001b[38;5;21;01m.\u001b[39;00m\u001b[38;5;21;01mproperties\u001b[39;00m\u001b[38;5;250m \u001b[39m\u001b[38;5;28;01mimport\u001b[39;00m INHERITED, INITIAL_NOT_COMPUTED, INITIAL_VALUES, ZERO_PIXELS\n\u001b[0;32m     30\u001b[0m \u001b[38;5;28;01mfrom\u001b[39;00m\u001b[38;5;250m \u001b[39m\u001b[38;5;21;01m.\u001b[39;00m\u001b[38;5;21;01mvalidation\u001b[39;00m\u001b[38;5;250m \u001b[39m\u001b[38;5;28;01mimport\u001b[39;00m preprocess_declarations\n",
      "File \u001b[1;32md:\\ENTERTERMENT\\coding\\testing\\bot\\Lib\\site-packages\\weasyprint\\css\\computed_values.py:9\u001b[0m\n\u001b[0;32m      6\u001b[0m \u001b[38;5;28;01mfrom\u001b[39;00m\u001b[38;5;250m \u001b[39m\u001b[38;5;21;01mtinycss2\u001b[39;00m\u001b[38;5;21;01m.\u001b[39;00m\u001b[38;5;21;01mcolor4\u001b[39;00m\u001b[38;5;250m \u001b[39m\u001b[38;5;28;01mimport\u001b[39;00m parse_color\n\u001b[0;32m      8\u001b[0m \u001b[38;5;28;01mfrom\u001b[39;00m\u001b[38;5;250m \u001b[39m\u001b[38;5;21;01m.\u001b[39;00m\u001b[38;5;21;01m.\u001b[39;00m\u001b[38;5;21;01mlogger\u001b[39;00m\u001b[38;5;250m \u001b[39m\u001b[38;5;28;01mimport\u001b[39;00m LOGGER\n\u001b[1;32m----> 9\u001b[0m \u001b[38;5;28;01mfrom\u001b[39;00m\u001b[38;5;250m \u001b[39m\u001b[38;5;21;01m.\u001b[39;00m\u001b[38;5;21;01m.\u001b[39;00m\u001b[38;5;21;01mtext\u001b[39;00m\u001b[38;5;21;01m.\u001b[39;00m\u001b[38;5;21;01mffi\u001b[39;00m\u001b[38;5;250m \u001b[39m\u001b[38;5;28;01mimport\u001b[39;00m FROM_UNITS, ffi, pango\n\u001b[0;32m     10\u001b[0m \u001b[38;5;28;01mfrom\u001b[39;00m\u001b[38;5;250m \u001b[39m\u001b[38;5;21;01m.\u001b[39;00m\u001b[38;5;21;01m.\u001b[39;00m\u001b[38;5;21;01mtext\u001b[39;00m\u001b[38;5;21;01m.\u001b[39;00m\u001b[38;5;21;01mline_break\u001b[39;00m\u001b[38;5;250m \u001b[39m\u001b[38;5;28;01mimport\u001b[39;00m Layout, first_line_metrics\n\u001b[0;32m     11\u001b[0m \u001b[38;5;28;01mfrom\u001b[39;00m\u001b[38;5;250m \u001b[39m\u001b[38;5;21;01m.\u001b[39;00m\u001b[38;5;21;01m.\u001b[39;00m\u001b[38;5;21;01murls\u001b[39;00m\u001b[38;5;250m \u001b[39m\u001b[38;5;28;01mimport\u001b[39;00m get_link_attribute\n",
      "File \u001b[1;32md:\\ENTERTERMENT\\coding\\testing\\bot\\Lib\\site-packages\\weasyprint\\text\\ffi.py:463\u001b[0m\n\u001b[0;32m    460\u001b[0m         \u001b[38;5;28;01mwith\u001b[39;00m suppress((\u001b[38;5;167;01mOSError\u001b[39;00m, \u001b[38;5;167;01mFileNotFoundError\u001b[39;00m)):\n\u001b[0;32m    461\u001b[0m             os\u001b[38;5;241m.\u001b[39madd_dll_directory(dll_directory)\n\u001b[1;32m--> 463\u001b[0m gobject \u001b[38;5;241m=\u001b[39m \u001b[43m_dlopen\u001b[49m\u001b[43m(\u001b[49m\n\u001b[0;32m    464\u001b[0m \u001b[43m    \u001b[49m\u001b[43mffi\u001b[49m\u001b[43m,\u001b[49m\u001b[43m \u001b[49m\u001b[38;5;124;43m'\u001b[39;49m\u001b[38;5;124;43mlibgobject-2.0-0\u001b[39;49m\u001b[38;5;124;43m'\u001b[39;49m\u001b[43m,\u001b[49m\u001b[43m \u001b[49m\u001b[38;5;124;43m'\u001b[39;49m\u001b[38;5;124;43mgobject-2.0-0\u001b[39;49m\u001b[38;5;124;43m'\u001b[39;49m\u001b[43m,\u001b[49m\u001b[43m \u001b[49m\u001b[38;5;124;43m'\u001b[39;49m\u001b[38;5;124;43mgobject-2.0\u001b[39;49m\u001b[38;5;124;43m'\u001b[39;49m\u001b[43m,\u001b[49m\n\u001b[0;32m    465\u001b[0m \u001b[43m    \u001b[49m\u001b[38;5;124;43m'\u001b[39;49m\u001b[38;5;124;43mlibgobject-2.0.so.0\u001b[39;49m\u001b[38;5;124;43m'\u001b[39;49m\u001b[43m,\u001b[49m\u001b[43m \u001b[49m\u001b[38;5;124;43m'\u001b[39;49m\u001b[38;5;124;43mlibgobject-2.0.dylib\u001b[39;49m\u001b[38;5;124;43m'\u001b[39;49m\u001b[43m,\u001b[49m\u001b[43m \u001b[49m\u001b[38;5;124;43m'\u001b[39;49m\u001b[38;5;124;43mlibgobject-2.0-0.dll\u001b[39;49m\u001b[38;5;124;43m'\u001b[39;49m\u001b[43m)\u001b[49m\n\u001b[0;32m    466\u001b[0m pango \u001b[38;5;241m=\u001b[39m _dlopen(\n\u001b[0;32m    467\u001b[0m     ffi, \u001b[38;5;124m'\u001b[39m\u001b[38;5;124mlibpango-1.0-0\u001b[39m\u001b[38;5;124m'\u001b[39m, \u001b[38;5;124m'\u001b[39m\u001b[38;5;124mpango-1.0-0\u001b[39m\u001b[38;5;124m'\u001b[39m, \u001b[38;5;124m'\u001b[39m\u001b[38;5;124mpango-1.0\u001b[39m\u001b[38;5;124m'\u001b[39m, \u001b[38;5;124m'\u001b[39m\u001b[38;5;124mlibpango-1.0.so.0\u001b[39m\u001b[38;5;124m'\u001b[39m,\n\u001b[0;32m    468\u001b[0m     \u001b[38;5;124m'\u001b[39m\u001b[38;5;124mlibpango-1.0.dylib\u001b[39m\u001b[38;5;124m'\u001b[39m, \u001b[38;5;124m'\u001b[39m\u001b[38;5;124mlibpango-1.0-0.dll\u001b[39m\u001b[38;5;124m'\u001b[39m)\n\u001b[0;32m    469\u001b[0m harfbuzz \u001b[38;5;241m=\u001b[39m _dlopen(\n\u001b[0;32m    470\u001b[0m     ffi, \u001b[38;5;124m'\u001b[39m\u001b[38;5;124mlibharfbuzz-0\u001b[39m\u001b[38;5;124m'\u001b[39m, \u001b[38;5;124m'\u001b[39m\u001b[38;5;124mharfbuzz\u001b[39m\u001b[38;5;124m'\u001b[39m, \u001b[38;5;124m'\u001b[39m\u001b[38;5;124mharfbuzz-0.0\u001b[39m\u001b[38;5;124m'\u001b[39m,\n\u001b[0;32m    471\u001b[0m     \u001b[38;5;124m'\u001b[39m\u001b[38;5;124mlibharfbuzz.so.0\u001b[39m\u001b[38;5;124m'\u001b[39m, \u001b[38;5;124m'\u001b[39m\u001b[38;5;124mlibharfbuzz.0.dylib\u001b[39m\u001b[38;5;124m'\u001b[39m, \u001b[38;5;124m'\u001b[39m\u001b[38;5;124mlibharfbuzz-0.dll\u001b[39m\u001b[38;5;124m'\u001b[39m)\n",
      "File \u001b[1;32md:\\ENTERTERMENT\\coding\\testing\\bot\\Lib\\site-packages\\weasyprint\\text\\ffi.py:451\u001b[0m, in \u001b[0;36m_dlopen\u001b[1;34m(ffi, allow_fail, *names)\u001b[0m\n\u001b[0;32m    441\u001b[0m \u001b[38;5;66;03m# Re-raise the exception.\u001b[39;00m\n\u001b[0;32m    442\u001b[0m \u001b[38;5;28mprint\u001b[39m(\n\u001b[0;32m    443\u001b[0m     \u001b[38;5;124m'\u001b[39m\u001b[38;5;130;01m\\n\u001b[39;00m\u001b[38;5;124m-----\u001b[39m\u001b[38;5;130;01m\\n\u001b[39;00m\u001b[38;5;130;01m\\n\u001b[39;00m\u001b[38;5;124m'\u001b[39m\n\u001b[0;32m    444\u001b[0m     \u001b[38;5;124m'\u001b[39m\u001b[38;5;124mWeasyPrint could not import some external libraries. Please \u001b[39m\u001b[38;5;124m'\u001b[39m\n\u001b[1;32m   (...)\u001b[0m\n\u001b[0;32m    449\u001b[0m     \u001b[38;5;124m'\u001b[39m\u001b[38;5;124mfirst_steps.html#troubleshooting\u001b[39m\u001b[38;5;124m'\u001b[39m,\n\u001b[0;32m    450\u001b[0m     \u001b[38;5;124m'\u001b[39m\u001b[38;5;130;01m\\n\u001b[39;00m\u001b[38;5;130;01m\\n\u001b[39;00m\u001b[38;5;124m-----\u001b[39m\u001b[38;5;130;01m\\n\u001b[39;00m\u001b[38;5;124m'\u001b[39m)  \u001b[38;5;66;03m# pragma: no cover\u001b[39;00m\n\u001b[1;32m--> 451\u001b[0m \u001b[38;5;28;01mreturn\u001b[39;00m \u001b[43mffi\u001b[49m\u001b[38;5;241;43m.\u001b[39;49m\u001b[43mdlopen\u001b[49m\u001b[43m(\u001b[49m\u001b[43mnames\u001b[49m\u001b[43m[\u001b[49m\u001b[38;5;241;43m0\u001b[39;49m\u001b[43m]\u001b[49m\u001b[43m,\u001b[49m\u001b[43m \u001b[49m\u001b[43mflags\u001b[49m\u001b[43m)\u001b[49m\n",
      "File \u001b[1;32md:\\ENTERTERMENT\\coding\\testing\\bot\\Lib\\site-packages\\cffi\\api.py:150\u001b[0m, in \u001b[0;36mFFI.dlopen\u001b[1;34m(self, name, flags)\u001b[0m\n\u001b[0;32m    147\u001b[0m     \u001b[38;5;28;01mraise\u001b[39;00m \u001b[38;5;167;01mTypeError\u001b[39;00m(\u001b[38;5;124m\"\u001b[39m\u001b[38;5;124mdlopen(name): name must be a file name, None, \u001b[39m\u001b[38;5;124m\"\u001b[39m\n\u001b[0;32m    148\u001b[0m                     \u001b[38;5;124m\"\u001b[39m\u001b[38;5;124mor an already-opened \u001b[39m\u001b[38;5;124m'\u001b[39m\u001b[38;5;124mvoid *\u001b[39m\u001b[38;5;124m'\u001b[39m\u001b[38;5;124m handle\u001b[39m\u001b[38;5;124m\"\u001b[39m)\n\u001b[0;32m    149\u001b[0m \u001b[38;5;28;01mwith\u001b[39;00m \u001b[38;5;28mself\u001b[39m\u001b[38;5;241m.\u001b[39m_lock:\n\u001b[1;32m--> 150\u001b[0m     lib, function_cache \u001b[38;5;241m=\u001b[39m \u001b[43m_make_ffi_library\u001b[49m\u001b[43m(\u001b[49m\u001b[38;5;28;43mself\u001b[39;49m\u001b[43m,\u001b[49m\u001b[43m \u001b[49m\u001b[43mname\u001b[49m\u001b[43m,\u001b[49m\u001b[43m \u001b[49m\u001b[43mflags\u001b[49m\u001b[43m)\u001b[49m\n\u001b[0;32m    151\u001b[0m     \u001b[38;5;28mself\u001b[39m\u001b[38;5;241m.\u001b[39m_function_caches\u001b[38;5;241m.\u001b[39mappend(function_cache)\n\u001b[0;32m    152\u001b[0m     \u001b[38;5;28mself\u001b[39m\u001b[38;5;241m.\u001b[39m_libraries\u001b[38;5;241m.\u001b[39mappend(lib)\n",
      "File \u001b[1;32md:\\ENTERTERMENT\\coding\\testing\\bot\\Lib\\site-packages\\cffi\\api.py:834\u001b[0m, in \u001b[0;36m_make_ffi_library\u001b[1;34m(ffi, libname, flags)\u001b[0m\n\u001b[0;32m    832\u001b[0m \u001b[38;5;28;01mdef\u001b[39;00m\u001b[38;5;250m \u001b[39m\u001b[38;5;21m_make_ffi_library\u001b[39m(ffi, libname, flags):\n\u001b[0;32m    833\u001b[0m     backend \u001b[38;5;241m=\u001b[39m ffi\u001b[38;5;241m.\u001b[39m_backend\n\u001b[1;32m--> 834\u001b[0m     backendlib \u001b[38;5;241m=\u001b[39m \u001b[43m_load_backend_lib\u001b[49m\u001b[43m(\u001b[49m\u001b[43mbackend\u001b[49m\u001b[43m,\u001b[49m\u001b[43m \u001b[49m\u001b[43mlibname\u001b[49m\u001b[43m,\u001b[49m\u001b[43m \u001b[49m\u001b[43mflags\u001b[49m\u001b[43m)\u001b[49m\n\u001b[0;32m    835\u001b[0m     \u001b[38;5;66;03m#\u001b[39;00m\n\u001b[0;32m    836\u001b[0m     \u001b[38;5;28;01mdef\u001b[39;00m\u001b[38;5;250m \u001b[39m\u001b[38;5;21maccessor_function\u001b[39m(name):\n",
      "File \u001b[1;32md:\\ENTERTERMENT\\coding\\testing\\bot\\Lib\\site-packages\\cffi\\api.py:829\u001b[0m, in \u001b[0;36m_load_backend_lib\u001b[1;34m(backend, name, flags)\u001b[0m\n\u001b[0;32m    827\u001b[0m     \u001b[38;5;28;01mif\u001b[39;00m first_error \u001b[38;5;129;01mis\u001b[39;00m \u001b[38;5;129;01mnot\u001b[39;00m \u001b[38;5;28;01mNone\u001b[39;00m:\n\u001b[0;32m    828\u001b[0m         msg \u001b[38;5;241m=\u001b[39m \u001b[38;5;124m\"\u001b[39m\u001b[38;5;132;01m%s\u001b[39;00m\u001b[38;5;124m.  Additionally, \u001b[39m\u001b[38;5;132;01m%s\u001b[39;00m\u001b[38;5;124m\"\u001b[39m \u001b[38;5;241m%\u001b[39m (first_error, msg)\n\u001b[1;32m--> 829\u001b[0m     \u001b[38;5;28;01mraise\u001b[39;00m \u001b[38;5;167;01mOSError\u001b[39;00m(msg)\n\u001b[0;32m    830\u001b[0m \u001b[38;5;28;01mreturn\u001b[39;00m backend\u001b[38;5;241m.\u001b[39mload_library(path, flags)\n",
      "\u001b[1;31mOSError\u001b[0m: cannot load library 'libgobject-2.0-0': error 0x7e.  Additionally, ctypes.util.find_library() did not manage to locate a library called 'libgobject-2.0-0'"
     ]
    }
   ],
   "source": [
    "from weasyprint import HTML\n",
    "\n",
    "# Convert an HTML file to PDF\n",
    "HTML('resume.html').write_pdf('output.pdf')"
   ]
  },
  {
   "cell_type": "code",
   "execution_count": null,
   "metadata": {},
   "outputs": [],
   "source": [
    "D_c1 = '''Power Grid Corporation of India (Industry Training) — Jan 2025 – Present \n",
    "•\tDeveloped AI-Powered Search & Analysis System: Designed and implemented an AI-driven system using Llama and Gemma 2 LLMs, improving data retrieval efficiency by 30% - 40% for employees.\n",
    "•\tVector Database Integration for Knowledge Retrieval: Trained and optimized a vector database on 5,000+ company-specific documents. \n",
    "•\tModel Customization & Optimization: Modified and fine-tuned large language models (LLMs) to align with Power Grid’s data needs, reducing manual data analysis time by 50%.\n",
    "'''\n",
    "D_c2 = \"\"\"MyUpchar (Summer Intern)\n",
    "During my internship at MyUpchar, I played a key role in developing TOKUMEI, an advanced offline communication system that functions as an alternative to Gmail. The project was designed to reduce email clutter, improve retrieval speed, and enhance team collaboration. By introducing a secure messaging system, I helped streamline internal communications, cutting email dependency by a significant margin. Additionally, my contributions led to a cost-effective solution that replaced Google Workspace, reducing operational expenses while maintaining high efficiency in information exchange.\n",
    "\n",
    "Beyond TOKUMEI, I also worked on client-side projects, developing custom chatbots that operated on Telegram and WhatsApp. These bots processed a large-scale database of contacts, verifying user presence on messaging platforms and facilitating automated interactions via a bot system. Additionally, I developed a web scraping algorithm similar to ATF, which extracted data from various sources to analyze and categorize information about medicines. This system processed over 10,000 medicines, enabling more efficient data-driven decision-making in healthcare.\"\"\"\n",
    "\n",
    "D_c3 = \"\"\"Navrasa Duende (Intern)\n",
    "At Navrasa Duende, I worked on AMS (Auto Mail Sender), a Python-based GUI application integrated with Zebra Mail Server, designed to automate and manage over 3,000 emails daily. The system included real-time tracking, automated HTML-based communication, and a structured record-keeping mechanism, ensuring seamless operations and improved transparency for the management. My efforts resulted in a significant increase in operational efficiency, making the communication workflow more streamlined and effective.\n",
    "\n",
    "In addition to AMS, I also worked on redesigning their website, focusing on user experience and security enhancements. I developed a user-friendly login and signup system with improved security measures and a modern interface. The website overhaul aimed at enhancing accessibility, visual appeal, and overall functionality, ensuring a smoother experience for users.\"\"\"\n",
    "\n",
    "D_c4 = \"\"\"Energo Products Limited (Summer Intern)\n",
    "At Energo Products Limited, I was responsible for the development of ATF (Automated Tender Finder), an automation tool designed to extract, filter, and process tender-related data. The project leveraged Selenium to reduce data extraction time, ensuring faster and more accurate retrieval of tender information. Additionally, I developed Tender Hunt, a web-based platform that introduced functionalities such as blacklisting, sorting, and document management. These implementations significantly improved tender management efficiency and streamlined the overall workflow.\n",
    "\n",
    "Beyond these projects, I also contributed to the proposal for migrating their physical mail server to a cloud-based system, aiming to improve scalability, security, and efficiency in email management. Additionally, I was part of a website development team, where I played a role in structuring and handling prepositions for the new platform, ensuring the content and design aligned with the company’s strategic goals.\"\"\"\n"
   ]
  },
  {
   "cell_type": "code",
   "execution_count": 3,
   "metadata": {},
   "outputs": [],
   "source": [
    "job_description =\"\"\"About the job\n",
    "Job Description:\n",
    "Experience in Python, with knowledge of at least one Python web framework such as Django or Flask.\n",
    "Familiarity with some ORM (Object Relational Mapper) libraries.\n",
    "Able to integrate multiple data sources and databases into one system.\n",
    "Understanding of the threading limitations of Python, and multi-process architecture.\n",
    "Basic understanding of front-end technologies such as JavaScript, HTML5, and CSS3\n",
    "Knowledge of user authentication and authorization between multiple systems, servers, and environments\n",
    "Able to create database schemas that represent and support business processes\n",
    "Experience analyzing data and creating reports using SQL and or languages similar to SQL\n",
    "Interested candidates can share your resume to teja.tatavarthi@wipro.com\"\"\"\n"
   ]
  },
  {
   "cell_type": "code",
   "execution_count": 2,
   "metadata": {},
   "outputs": [
    {
     "ename": "NameError",
     "evalue": "name 'resume' is not defined",
     "output_type": "error",
     "traceback": [
      "\u001b[1;31m---------------------------------------------------------------------------\u001b[0m",
      "\u001b[1;31mNameError\u001b[0m                                 Traceback (most recent call last)",
      "Cell \u001b[1;32mIn[2], line 27\u001b[0m\n\u001b[0;32m     24\u001b[0m     \u001b[38;5;28;01mreturn\u001b[39;00m response[\u001b[38;5;124m\"\u001b[39m\u001b[38;5;124mmessage\u001b[39m\u001b[38;5;124m\"\u001b[39m][\u001b[38;5;124m\"\u001b[39m\u001b[38;5;124mcontent\u001b[39m\u001b[38;5;124m\"\u001b[39m]\n\u001b[0;32m     26\u001b[0m \u001b[38;5;66;03m# Run the ATS Score Check\u001b[39;00m\n\u001b[1;32m---> 27\u001b[0m \u001b[38;5;28mprint\u001b[39m(get_ats_score(\u001b[43mresume\u001b[49m, job_description))\n",
      "\u001b[1;31mNameError\u001b[0m: name 'resume' is not defined"
     ]
    }
   ],
   "source": [
    "import os\n",
    "from ollama import chat\n",
    "\n",
    "\n",
    "def get_ats_score(resume, job_desc):\n",
    "    prompt = f\"\"\"\n",
    "    You are an ATS (Applicant Tracking System) expert. Your task is to evaluate the resume provided below against the given job description.\n",
    "    - Compare skills, experience, and required technologies.\n",
    "    - Rate the match from 0 to 100 (higher is better).\n",
    "    - Provide reasons for deductions.\n",
    "\n",
    "    --- Job Description ---\n",
    "    {job_desc}\n",
    "\n",
    "    --- Resume ---\n",
    "    {resume}\n",
    "\n",
    "    Provide output in the following JSON format:\n",
    "    {{\"score\": <integer>, \"reasoning\": \"<detailed feedback>\"}}\n",
    "    \"\"\"\n",
    "\n",
    "    response = chat(model=\"phi4:latest\", messages=[{\"role\": \"system\", \"content\": prompt}])\n",
    "    \n",
    "    return response[\"message\"][\"content\"]\n",
    "\n",
    "# Run the ATS Score Check\n",
    "print(get_ats_score(resume, job_description))\n"
   ]
  }
 ],
 "metadata": {
  "kernelspec": {
   "display_name": "bot",
   "language": "python",
   "name": "python3"
  },
  "language_info": {
   "codemirror_mode": {
    "name": "ipython",
    "version": 3
   },
   "file_extension": ".py",
   "mimetype": "text/x-python",
   "name": "python",
   "nbconvert_exporter": "python",
   "pygments_lexer": "ipython3",
   "version": "3.11.9"
  }
 },
 "nbformat": 4,
 "nbformat_minor": 2
}
